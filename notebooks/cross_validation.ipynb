{
 "cells": [
  {
   "cell_type": "code",
   "execution_count": 1,
   "id": "0d219360-e836-48ce-88cc-c2d83a99810c",
   "metadata": {},
   "outputs": [],
   "source": [
    "from fastai.vision.all import *\n",
    "\n",
    "from sklearn.model_selection import StratifiedKFold"
   ]
  },
  {
   "cell_type": "code",
   "execution_count": 2,
   "id": "98bf894c-da6c-4090-a70a-9ba73d732c01",
   "metadata": {},
   "outputs": [],
   "source": [
    "path = untar_data(URLs.PETS)\n",
    "fnames = get_image_files(path/'images')\n",
    "pat = r'(.+)_\\d+.jpg$'\n",
    "item_tfms = [RandomResizedCrop(460, min_scale=0.75, ratio=(1.,1.)), ToTensor()]\n",
    "batch_tfms = [IntToFloatTensor(), *aug_transforms(size=224, max_warp=0), Normalize.from_stats(*imagenet_stats)]\n",
    "batch_size = 64"
   ]
  },
  {
   "cell_type": "code",
   "execution_count": 3,
   "id": "b397433d-0129-4ceb-b94f-d60487dba71d",
   "metadata": {},
   "outputs": [],
   "source": [
    "random.shuffle(fnames)\n",
    "\n",
    "train_fnames = [filename for filename in fnames[:int(len(fnames) * .9)]]\n",
    "test_fnames = [filename for filename in fnames[int(len(fnames) * .9):]]"
   ]
  },
  {
   "cell_type": "code",
   "execution_count": 4,
   "id": "423582fc-441f-4972-818a-133a31ea55a8",
   "metadata": {},
   "outputs": [],
   "source": [
    "vocab = list(map(RegexLabeller(pat=r'/([^/]+)_\\d+.*'), train_fnames))"
   ]
  },
  {
   "cell_type": "code",
   "execution_count": 5,
   "id": "25598c83-ce59-41ac-a35c-8388f6b60aa9",
   "metadata": {},
   "outputs": [],
   "source": [
    "pipe = Pipeline([\n",
    "    RegexLabeller(pat=r'/([^/]+)_\\d+.*'), Categorize(vocab=vocab)\n",
    "])"
   ]
  },
  {
   "cell_type": "code",
   "execution_count": 6,
   "id": "74fd0220-87d7-4351-afca-355d851df264",
   "metadata": {},
   "outputs": [],
   "source": [
    "labels = list(map(pipe, train_fnames))"
   ]
  },
  {
   "cell_type": "code",
   "execution_count": 7,
   "id": "fc6203ca-0030-4ed9-aeb3-45c737dcb83e",
   "metadata": {},
   "outputs": [],
   "source": [
    "splits = []\n",
    "skf = StratifiedKFold(n_splits=10, shuffle=True)\n",
    "for _, valid_indexes in skf.split(\n",
    "    np.zeros(len(labels)), labels\n",
    "):\n",
    "    split = IndexSplitter(valid_indexes)\n",
    "    splits.append(split)"
   ]
  },
  {
   "cell_type": "code",
   "execution_count": 8,
   "id": "8e05e6f3-5217-4906-9aa0-f47d4c62db10",
   "metadata": {},
   "outputs": [],
   "source": [
    "valid_pcts = []\n",
    "test_preds = []"
   ]
  },
  {
   "cell_type": "code",
   "execution_count": 9,
   "id": "bfdb8abb-6369-4a8f-8c9b-c1023ee0c153",
   "metadata": {},
   "outputs": [],
   "source": [
    "def train(splitter:IndexSplitter):\n",
    "    \"Trains a single model over a set of splits based on `splitter`\"\n",
    "    dset = Datasets(\n",
    "        train_fnames,\n",
    "        tfms = [\n",
    "            [PILImage.create], \n",
    "            [RegexLabeller(pat=r'/([^/]+)_\\d+.*'), Categorize]\n",
    "        ],\n",
    "        splits = splitter(train_fnames)\n",
    "    )\n",
    "    dls = dset.dataloaders(\n",
    "        bs=batch_size,\n",
    "        after_item=item_tfms,\n",
    "        after_batch=batch_tfms\n",
    "    )\n",
    "    learn = vision_learner(dls, resnet34, metrics=accuracy)\n",
    "    learn.fit_one_cycle(1)\n",
    "    valid_pcts.append(learn.validate()[1])\n",
    "    dl = learn.dls.test_dl(test_fnames)\n",
    "    preds, _ = learn.get_preds(dl=dl)\n",
    "    test_preds.append(preds)"
   ]
  },
  {
   "cell_type": "code",
   "execution_count": 10,
   "id": "62b48308-0626-4d6c-af17-55a6240b25f8",
   "metadata": {},
   "outputs": [
    {
     "data": {
      "text/html": [],
      "text/plain": [
       "<IPython.core.display.HTML object>"
      ]
     },
     "metadata": {},
     "output_type": "display_data"
    }
   ],
   "source": [
    "for splitter in splits:\n",
    "    train(splitter)"
   ]
  },
  {
   "cell_type": "code",
   "execution_count": 11,
   "id": "1e3ee0c5-ef28-4f03-a218-b32f249f1b8b",
   "metadata": {},
   "outputs": [
    {
     "data": {
      "text/plain": [
       "TensorBase(0.8863)"
      ]
     },
     "execution_count": 11,
     "metadata": {},
     "output_type": "execute_result"
    }
   ],
   "source": [
    "test_labels = torch.stack([pipe(fname) for fname in test_fnames])\n",
    "accuracy(test_preds[0], test_labels)"
   ]
  },
  {
   "cell_type": "code",
   "execution_count": 12,
   "id": "84fabad1-844d-40a9-8666-ef3a0f2eea57",
   "metadata": {},
   "outputs": [
    {
     "name": "stdout",
     "output_type": "stream",
     "text": [
      "TensorBase(0.8863)\n",
      "TensorBase(0.8890)\n",
      "TensorBase(0.8945)\n",
      "TensorBase(0.8850)\n",
      "TensorBase(0.8850)\n",
      "TensorBase(0.8958)\n",
      "TensorBase(0.8931)\n",
      "TensorBase(0.8985)\n",
      "TensorBase(0.8985)\n",
      "TensorBase(0.8985)\n"
     ]
    }
   ],
   "source": [
    "for preds in test_preds:\n",
    "    print(accuracy(preds, test_labels))"
   ]
  },
  {
   "cell_type": "code",
   "execution_count": 13,
   "id": "1509fd52-9d60-40e3-972b-ca1ee6bc4dfd",
   "metadata": {},
   "outputs": [],
   "source": [
    "votes = torch.stack(test_preds, dim=-1).sum(-1) / 5"
   ]
  },
  {
   "cell_type": "code",
   "execution_count": 14,
   "id": "582d50db-9e15-474c-b1ab-3e6553df6449",
   "metadata": {},
   "outputs": [
    {
     "data": {
      "text/plain": [
       "TensorBase(0.9215)"
      ]
     },
     "execution_count": 14,
     "metadata": {},
     "output_type": "execute_result"
    }
   ],
   "source": [
    "accuracy(votes, test_labels)"
   ]
  },
  {
   "cell_type": "code",
   "execution_count": null,
   "id": "4ca00ee8-5379-4ca2-90e4-df341fd0d234",
   "metadata": {},
   "outputs": [],
   "source": []
  }
 ],
 "metadata": {
  "kernelspec": {
   "display_name": "fastai",
   "language": "python",
   "name": "python3"
  },
  "language_info": {
   "codemirror_mode": {
    "name": "ipython",
    "version": 3
   },
   "file_extension": ".py",
   "mimetype": "text/x-python",
   "name": "python",
   "nbconvert_exporter": "python",
   "pygments_lexer": "ipython3",
   "version": "3.10.9"
  },
  "vscode": {
   "interpreter": {
    "hash": "dbeaabf96d056229716848a298cd9413f5c098c5e85ebec7037464305d96e83e"
   }
  }
 },
 "nbformat": 4,
 "nbformat_minor": 5
}
